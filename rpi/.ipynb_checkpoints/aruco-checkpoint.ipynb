{
 "cells": [
  {
   "cell_type": "code",
   "execution_count": 5,
   "metadata": {
    "init_cell": true
   },
   "outputs": [],
   "source": [
    "import numpy as np\n",
    "import requests\n",
    "import json\n",
    "import cv2\n",
    "import matplotlib as mpl\n",
    "import matplotlib.pyplot as plt\n",
    "import svgwrite"
   ]
  },
  {
   "cell_type": "code",
   "execution_count": 2,
   "metadata": {
    "init_cell": true
   },
   "outputs": [],
   "source": [
    "dictionary = cv2.aruco.custom_dictionary(20,3, 2020)\n",
    "param = cv2.aruco.DetectorParameters_create()"
   ]
  },
  {
   "cell_type": "code",
   "execution_count": null,
   "metadata": {},
   "outputs": [],
   "source": [
    "nx = 2\n",
    "ny = 10 \n",
    "for id in range(ny):\n",
    "    fig = plt.figure(figsize = (16, 9))\n",
    "    for idx in range(nx):\n",
    "        ax = fig.add_subplot(1, nx, idx+1)\n",
    "        img = cv2.aruco.drawMarker(dictionary, 2*id + idx, 512, borderBits=1)\n",
    "        plt.imshow(img, cmap = mpl.cm.gray, interpolation = \"nearest\")\n",
    "        ax.axis(\"off\")\n",
    "        ax.set_title(2*id + idx)\n",
    "    #plt.savefig(f\"aruco-markers/markers{id}.png\", dpi = 300)\n",
    "    plt.show()\n",
    "\n",
    "nx = 5\n",
    "ny = 4\n",
    "fig = plt.figure(figsize = (16, 9))\n",
    "for idx in range(nx*ny):\n",
    "    ax = fig.add_subplot(ny, nx, idx+1)\n",
    "    img = cv2.aruco.drawMarker(dictionary, idx, 512, borderBits=1)\n",
    "    plt.imshow(img, cmap = mpl.cm.gray, interpolation = \"nearest\")\n",
    "    ax.axis(\"off\")\n",
    "    ax.set_title(idx)\n",
    "#plt.savefig(f\"aruco-markers/markers.png\", dpi = 300)\n",
    "plt.show()"
   ]
  },
  {
   "cell_type": "code",
   "execution_count": null,
   "metadata": {
    "scrolled": true
   },
   "outputs": [],
   "source": [
    "frameGray = cv2.imread(\"aruco-markers/markers.png\", cv2.IMREAD_GRAYSCALE)\n",
    "corners, ids, rejPts = cv2.aruco.detectMarkers(frameGray, dictionary, parameters = param)\n",
    "plt.figure()\n",
    "plt.imshow(frameGray, cmap = mpl.cm.gray)\n",
    "markers = np.zeros((20,4))\n",
    "ids = ids.reshape(-1)\n",
    "visible = np.ones((len(ids), 1))\n",
    "corners = np.array(corners).squeeze(1)\n",
    "vectors = np.diff(np.delete(corners,[2,3], axis=1),axis=1)\n",
    "centers = corners.mean(1)\n",
    "referenceVec = centers[np.where(ids==1)[0][0]] - centers[np.where(ids==0)[0][0]]\n",
    "angles = np.arctan2(np.cross(vectors,referenceVec), np.dot(vectors, referenceVec))\n",
    "markers[ids] = np.concatenate((centers, angles, visible), axis=1)\n",
    "print(markers)"
   ]
  },
  {
   "cell_type": "code",
   "execution_count": 4,
   "metadata": {},
   "outputs": [
    {
     "name": "stdout",
     "output_type": "stream",
     "text": [
      "[[  0   0   0   0   0]\n",
      " [  0   0 255 255   0]\n",
      " [  0   0   0   0   0]\n",
      " [  0   0 255 255   0]\n",
      " [  0   0   0   0   0]]\n"
     ]
    }
   ],
   "source": [
    "im = cv2.aruco.drawMarker(dictionary,4, 5, borderBits=1)\n",
    "print(im)"
   ]
  },
  {
   "cell_type": "code",
   "execution_count": 28,
   "metadata": {
    "scrolled": true
   },
   "outputs": [
    {
     "name": "stdout",
     "output_type": "stream",
     "text": [
      "0\n",
      "0\n",
      "1\n",
      "1\n",
      "2\n",
      "2\n",
      "3\n",
      "3\n",
      "4\n",
      "4\n",
      "0\n",
      "0\n",
      "1\n",
      "1\n",
      "2\n",
      "2\n",
      "3\n",
      "3\n",
      "4\n",
      "4\n",
      "0\n",
      "0\n",
      "1\n",
      "1\n",
      "2\n",
      "2\n",
      "3\n",
      "3\n",
      "4\n",
      "4\n",
      "0\n",
      "0\n",
      "1\n",
      "1\n",
      "2\n",
      "2\n",
      "3\n",
      "3\n",
      "4\n",
      "4\n",
      "0\n",
      "0\n",
      "1\n",
      "1\n",
      "2\n",
      "2\n",
      "3\n",
      "3\n",
      "4\n",
      "4\n",
      "0\n",
      "0\n",
      "1\n",
      "1\n",
      "2\n",
      "2\n",
      "3\n",
      "3\n",
      "4\n",
      "4\n",
      "0\n",
      "0\n",
      "1\n",
      "1\n",
      "2\n",
      "2\n",
      "3\n",
      "3\n",
      "4\n",
      "4\n",
      "0\n",
      "0\n",
      "1\n",
      "1\n",
      "2\n",
      "2\n",
      "3\n",
      "3\n",
      "4\n",
      "4\n",
      "0\n",
      "0\n",
      "1\n",
      "1\n",
      "2\n",
      "2\n",
      "3\n",
      "3\n",
      "4\n",
      "4\n",
      "0\n",
      "0\n",
      "1\n",
      "1\n",
      "2\n",
      "2\n",
      "3\n",
      "3\n",
      "4\n",
      "4\n",
      "0\n",
      "0\n",
      "1\n",
      "1\n",
      "2\n",
      "2\n",
      "3\n",
      "3\n",
      "4\n",
      "4\n",
      "0\n",
      "0\n",
      "1\n",
      "1\n",
      "2\n",
      "2\n",
      "3\n",
      "3\n",
      "4\n",
      "4\n",
      "0\n",
      "0\n",
      "1\n",
      "1\n",
      "2\n",
      "2\n",
      "3\n",
      "3\n",
      "4\n",
      "4\n",
      "0\n",
      "0\n",
      "1\n",
      "1\n",
      "2\n",
      "2\n",
      "3\n",
      "3\n",
      "4\n",
      "4\n",
      "0\n",
      "0\n",
      "1\n",
      "1\n",
      "2\n",
      "2\n",
      "3\n",
      "3\n",
      "4\n",
      "4\n",
      "0\n",
      "0\n",
      "1\n",
      "1\n",
      "2\n",
      "2\n",
      "3\n",
      "3\n",
      "4\n",
      "4\n"
     ]
    }
   ],
   "source": [
    "for idx in range(4,20):\n",
    "    im = cv2.aruco.drawMarker(dictionary, idx, 5, borderBits=1)\n",
    "    svg_out = svgwrite.Drawing(\n",
    "        filename='marker'+str(idx)+'.svg',\n",
    "        size=('13cm','13cm'))\n",
    "    svg_out.add(svg_out.circle(\n",
    "        center = (\"6.5cm\",\"6.5cm\"),\n",
    "        r = \"6.5cm\",\n",
    "        stroke_width=\"1cm\",\n",
    "        stroke=\"black\"\n",
    "        fill=\"rgb(255,255,255)\"))\n",
    "    for px in range(5):\n",
    "        for py in range(5):\n",
    "            c = im[px][py]\n",
    "            svg_out.add(svg_out.rect(\n",
    "                insert = (),\n",
    "                size = (\"1.7cm\",\"1.7cm\"),\n",
    "                fill = f\"rgb({c},{c},{c})\"))\n",
    "    svg_out.save()"
   ]
  },
  {
   "cell_type": "code",
   "execution_count": 22,
   "metadata": {},
   "outputs": [
    {
     "data": {
      "text/plain": [
       "255"
      ]
     },
     "execution_count": 22,
     "metadata": {},
     "output_type": "execute_result"
    }
   ],
   "source": [
    "im[2][2]"
   ]
  }
 ],
 "metadata": {
  "celltoolbar": "Initialization Cell",
  "kernelspec": {
   "display_name": "Python 3",
   "language": "python",
   "name": "python3"
  },
  "language_info": {
   "codemirror_mode": {
    "name": "ipython",
    "version": 3
   },
   "file_extension": ".py",
   "mimetype": "text/x-python",
   "name": "python",
   "nbconvert_exporter": "python",
   "pygments_lexer": "ipython3",
   "version": "3.7.5"
  },
  "varInspector": {
   "cols": {
    "lenName": 16,
    "lenType": 16,
    "lenVar": 40
   },
   "kernels_config": {
    "python": {
     "delete_cmd_postfix": "",
     "delete_cmd_prefix": "del ",
     "library": "var_list.py",
     "varRefreshCmd": "print(var_dic_list())"
    },
    "r": {
     "delete_cmd_postfix": ") ",
     "delete_cmd_prefix": "rm(",
     "library": "var_list.r",
     "varRefreshCmd": "cat(var_dic_list()) "
    }
   },
   "types_to_exclude": [
    "module",
    "function",
    "builtin_function_or_method",
    "instance",
    "_Feature"
   ],
   "window_display": false
  }
 },
 "nbformat": 4,
 "nbformat_minor": 2
}
